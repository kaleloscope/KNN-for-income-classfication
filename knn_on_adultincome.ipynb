{
  "nbformat": 4,
  "nbformat_minor": 0,
  "metadata": {
    "colab": {
      "name": "knn_on_adultincome.ipynb",
      "provenance": []
    },
    "kernelspec": {
      "name": "python3",
      "display_name": "Python 3"
    },
    "language_info": {
      "name": "python"
    }
  },
  "cells": [
    {
      "cell_type": "markdown",
      "metadata": {
        "id": "EmPfPKpe8hpT"
      },
      "source": [
        "# **A simple ML model for Binary classification using K-NN algorithm**\n",
        "This model is developed to predict income level based on on the individual’s personal information. An individual’s annual income results from various factors. Intuitively, it is influenced by the individual’s education level, age, gender, occupation, and etc.  "
      ]
    },
    {
      "cell_type": "markdown",
      "metadata": {
        "id": "WMYv81eourNu"
      },
      "source": [
        "The dataset that has been used is 'Adult Income dataset' from UCI Machine Learning repository. More info at http://www.cs.toronto.edu/~delve/data/adult/adultDetail.html"
      ]
    },
    {
      "cell_type": "markdown",
      "metadata": {
        "id": "rqAqDDlPvVuq"
      },
      "source": [
        "**Problem Statement :** Predict and Classify whether the income of the person is > 50k or <=50k using personal information divided 14 different input attributes."
      ]
    },
    {
      "cell_type": "markdown",
      "metadata": {
        "id": "x9AWKjSGwqjG"
      },
      "source": [
        "# Mounting the drive and Importing libraries"
      ]
    },
    {
      "cell_type": "code",
      "metadata": {
        "id": "jWpcDiD37Mju"
      },
      "source": [
        "from google.colab import drive\n",
        "drive.mount('/content/drive')"
      ],
      "execution_count": null,
      "outputs": []
    },
    {
      "cell_type": "code",
      "metadata": {
        "id": "k2OPTqkJ9IPx"
      },
      "source": [
        "import pandas as pd\n",
        "import numpy as np \n",
        "import pandas as pd \n",
        "import matplotlib.pyplot as plt\n",
        "import seaborn as sns\n",
        "from sklearn.model_selection import train_test_split\n",
        "from sklearn.neighbors import KNeighborsClassifier\n",
        "from sklearn.metrics import accuracy_score,classification_report,plot_confusion_matrix,confusion_matrix,plot_precision_recall_curve,plot_roc_curve"
      ],
      "execution_count": 4,
      "outputs": []
    },
    {
      "cell_type": "markdown",
      "metadata": {
        "id": "TOFzXPlTApMI"
      },
      "source": [
        "Using Adult Income Dataset for KNN classification and specifying the path to the dataset. "
      ]
    },
    {
      "cell_type": "code",
      "metadata": {
        "id": "PZroo8vxARY_"
      },
      "source": [
        "data = pd.read_csv('/content/drive/MyDrive/Datasets/adult.csv')"
      ],
      "execution_count": 5,
      "outputs": []
    },
    {
      "cell_type": "markdown",
      "metadata": {
        "id": "IDM0RplsBl_P"
      },
      "source": [
        "# Data Analysis \n",
        "Analysing the Adult Income Dataset."
      ]
    },
    {
      "cell_type": "code",
      "metadata": {
        "id": "McnudS9JAeRs"
      },
      "source": [
        "data.head()"
      ],
      "execution_count": null,
      "outputs": []
    },
    {
      "cell_type": "code",
      "metadata": {
        "id": "ZXoGDwdMAlSz"
      },
      "source": [
        "data.info()"
      ],
      "execution_count": null,
      "outputs": []
    },
    {
      "cell_type": "code",
      "metadata": {
        "id": "uiJTu5duCSDE"
      },
      "source": [
        "data.describe()"
      ],
      "execution_count": null,
      "outputs": []
    },
    {
      "cell_type": "markdown",
      "metadata": {
        "id": "hMUjgi-fDnYX"
      },
      "source": [
        "# Data Preprocessing and Visualisation"
      ]
    },
    {
      "cell_type": "markdown",
      "metadata": {
        "id": "04lapaMFFc7q"
      },
      "source": [
        "Check for null values if any"
      ]
    },
    {
      "cell_type": "code",
      "metadata": {
        "id": "cDhX50L1EzA4"
      },
      "source": [
        "data.isnull().sum().sum()"
      ],
      "execution_count": null,
      "outputs": []
    },
    {
      "cell_type": "markdown",
      "metadata": {
        "id": "N_yhadY5F8Tf"
      },
      "source": [
        "**Changing income column values into 0's and 1's:**\n",
        "\n",
        "\n",
        "> 0 -> income is less than or equal to 50K and 1 -> income is more than 50K\n"
      ]
    },
    {
      "cell_type": "code",
      "metadata": {
        "id": "oPzIEW9iGBfu"
      },
      "source": [
        "data['income'].value_counts()"
      ],
      "execution_count": null,
      "outputs": []
    },
    {
      "cell_type": "code",
      "metadata": {
        "id": "ZFb5b48_GNh5"
      },
      "source": [
        "data['income'] = data['income']==('<=50K')\n",
        "data['income'] = data['income'].astype(int)"
      ],
      "execution_count": 17,
      "outputs": []
    },
    {
      "cell_type": "code",
      "metadata": {
        "id": "S35PAOgXGjhB"
      },
      "source": [
        "data['income']"
      ],
      "execution_count": null,
      "outputs": []
    },
    {
      "cell_type": "code",
      "metadata": {
        "id": "6XMOjY3uGkHm"
      },
      "source": [
        "data['income'].value_counts()"
      ],
      "execution_count": null,
      "outputs": []
    },
    {
      "cell_type": "markdown",
      "metadata": {
        "id": "7u__gTTkHgCu"
      },
      "source": [
        "Creating 2 seperate data frames one with numerical data, other with categorical data"
      ]
    },
    {
      "cell_type": "code",
      "metadata": {
        "id": "tkoW7iBBHkJO"
      },
      "source": [
        "data_cat = data.select_dtypes(include='object')\n",
        "data_nums = data.select_dtypes(exclude='object')"
      ],
      "execution_count": 20,
      "outputs": []
    },
    {
      "cell_type": "code",
      "metadata": {
        "id": "axJgrBPCHy4j"
      },
      "source": [
        "data_nums"
      ],
      "execution_count": null,
      "outputs": []
    },
    {
      "cell_type": "code",
      "metadata": {
        "colab": {
          "base_uri": "https://localhost:8080/"
        },
        "id": "We7a8SpbH2rv",
        "outputId": "0ff2ffae-fbd5-480b-d230-2b946b851686"
      },
      "source": [
        "data_nums.columns"
      ],
      "execution_count": 23,
      "outputs": [
        {
          "output_type": "execute_result",
          "data": {
            "text/plain": [
              "Index(['age', 'fnlwgt', 'educational-num', 'capital-gain', 'capital-loss',\n",
              "       'hours-per-week', 'income'],\n",
              "      dtype='object')"
            ]
          },
          "metadata": {},
          "execution_count": 23
        }
      ]
    },
    {
      "cell_type": "markdown",
      "metadata": {
        "id": "WU9x9yDdIAH0"
      },
      "source": [
        "**Visualising and Plotting**"
      ]
    },
    {
      "cell_type": "markdown",
      "metadata": {
        "id": "nlaiB1mRIjAu"
      },
      "source": [
        "Plotting distributions for num columns"
      ]
    },
    {
      "cell_type": "code",
      "metadata": {
        "id": "W2D8_y2vI5dA"
      },
      "source": [
        "for i in ['age', 'fnlwgt', 'educational-num', 'capital-gain', 'capital-loss','hours-per-week']:\n",
        "    sns.displot(data[i],kde=True,bins=30)\n",
        "    plt.show()"
      ],
      "execution_count": null,
      "outputs": []
    },
    {
      "cell_type": "markdown",
      "metadata": {
        "id": "taPZPYlFKYEk"
      },
      "source": [
        "Plotting the pair plot"
      ]
    },
    {
      "cell_type": "code",
      "metadata": {
        "id": "Zc2XgrIyIGPD"
      },
      "source": [
        "sns.pairplot(data_nums,x_vars=['age','hours-per-week'],y_vars=['age', 'hours-per-week'],hue='income')"
      ],
      "execution_count": null,
      "outputs": []
    },
    {
      "cell_type": "markdown",
      "metadata": {
        "id": "Sy_sfp6cKmaz"
      },
      "source": [
        "Standardising the columns of numerical data as to normalise the distances for better performance of the KNN"
      ]
    },
    {
      "cell_type": "code",
      "metadata": {
        "id": "j6KUBx7RLAnP"
      },
      "source": [
        "for i in ['age', 'fnlwgt', 'educational-num', 'capital-gain', 'capital-loss','hours-per-week']:\n",
        "    data_nums[i] = (data_nums[i]-np.mean(data_nums[i]))/(np.std(data_nums[i]))"
      ],
      "execution_count": null,
      "outputs": []
    },
    {
      "cell_type": "code",
      "metadata": {
        "id": "YIG00kVLLT3b"
      },
      "source": [
        "data_nums"
      ],
      "execution_count": null,
      "outputs": []
    },
    {
      "cell_type": "markdown",
      "metadata": {
        "id": "Yu-BcBz5W7af"
      },
      "source": [
        "Plotting the categorical data"
      ]
    },
    {
      "cell_type": "code",
      "metadata": {
        "id": "YCrLgnnQXDHg"
      },
      "source": [
        "for i in ['workclass', 'education', 'marital-status', 'occupation','relationship', 'race', 'gender', 'native-country']:\n",
        "    sns.countplot(x=i,data=data_cat)\n",
        "    plt.xticks(rotation=90)\n",
        "    plt.show()"
      ],
      "execution_count": null,
      "outputs": []
    },
    {
      "cell_type": "code",
      "metadata": {
        "id": "Z82UdCRUXlDy"
      },
      "source": [
        "data_cat = data_cat.replace(to_replace =\"?\",value =\"Private\")\n",
        "data_cat"
      ],
      "execution_count": null,
      "outputs": []
    },
    {
      "cell_type": "code",
      "metadata": {
        "id": "O3UkXz6YX2vz"
      },
      "source": [
        "sns.countplot(x='workclass',data=data_cat)\n",
        "plt.xticks(rotation=90)\n",
        "plt.show()"
      ],
      "execution_count": null,
      "outputs": []
    },
    {
      "cell_type": "markdown",
      "metadata": {
        "id": "fH__iNGrX9dD"
      },
      "source": [
        "Creating dummy variables for different categories"
      ]
    },
    {
      "cell_type": "code",
      "metadata": {
        "id": "Aky0NVMmX5gd"
      },
      "source": [
        "data_cat = pd.get_dummies(data_cat)\n",
        "data_cat"
      ],
      "execution_count": null,
      "outputs": []
    },
    {
      "cell_type": "markdown",
      "metadata": {
        "id": "5ucW6AqMaJ1o"
      },
      "source": [
        "Concatenating both the data frames, numerical data and categorical data into final data frame."
      ]
    },
    {
      "cell_type": "code",
      "metadata": {
        "id": "r7hlupDjYZnQ"
      },
      "source": [
        "data = pd.concat([data_nums,data_cat], axis=1)\n",
        "data.head()"
      ],
      "execution_count": null,
      "outputs": []
    },
    {
      "cell_type": "markdown",
      "metadata": {
        "id": "yWTWVHyEauDD"
      },
      "source": [
        "**Declaring the output attribute and splitting the data into training and testing**\n",
        "\n",
        "> Splitting the data into - Training data(80%) and Testing data(20%)\n",
        "\n"
      ]
    },
    {
      "cell_type": "code",
      "metadata": {
        "id": "qE7onHBjbCgW"
      },
      "source": [
        "x = data.drop('income',axis=1)\n",
        "y = data['income']\n",
        "x_train, x_test, y_train, y_test  = train_test_split(x,y,test_size=0.2,random_state=101)"
      ],
      "execution_count": 42,
      "outputs": []
    },
    {
      "cell_type": "markdown",
      "metadata": {
        "id": "kHYVSQhzdjy2"
      },
      "source": [
        "# Implementing KNN Algorithm"
      ]
    },
    {
      "cell_type": "markdown",
      "metadata": {
        "id": "DdIbipezefF4"
      },
      "source": [
        "Using knn classifier function with initially testin for k = 1."
      ]
    },
    {
      "cell_type": "code",
      "metadata": {
        "id": "29Z7mdgkb2ox"
      },
      "source": [
        "knn = KNeighborsClassifier(n_neighbors=1)"
      ],
      "execution_count": 49,
      "outputs": []
    },
    {
      "cell_type": "markdown",
      "metadata": {
        "id": "HQkdoIJHfy9r"
      },
      "source": [
        "Fitting the KNN model to the training dataset i.e training of the model."
      ]
    },
    {
      "cell_type": "code",
      "metadata": {
        "id": "3yjfyvVhfwCy"
      },
      "source": [
        "knn.fit(x_train,y_train)"
      ],
      "execution_count": null,
      "outputs": []
    },
    {
      "cell_type": "markdown",
      "metadata": {
        "id": "MVXBKlmXe63n"
      },
      "source": [
        "Predicting the model output and testing it using testing dataset"
      ]
    },
    {
      "cell_type": "code",
      "metadata": {
        "id": "gLF7p2NHedMl"
      },
      "source": [
        "pred = knn.predict(x_test)"
      ],
      "execution_count": 53,
      "outputs": []
    },
    {
      "cell_type": "markdown",
      "metadata": {
        "id": "4HmkTNZ5fP7F"
      },
      "source": [
        "Finding the accuracy of the model using the corresponding predicted value the given labeled output value in the test samples"
      ]
    },
    {
      "cell_type": "code",
      "metadata": {
        "id": "63JnzG2CeaQN"
      },
      "source": [
        "accuracy_score(y_test,pred)"
      ],
      "execution_count": null,
      "outputs": []
    },
    {
      "cell_type": "code",
      "metadata": {
        "id": "ZycU-vX8hPz0"
      },
      "source": [
        "print(classification_report(y_test, pred))"
      ],
      "execution_count": null,
      "outputs": []
    },
    {
      "cell_type": "markdown",
      "metadata": {
        "id": "xRaBTL40hthe"
      },
      "source": [
        "**Confusion Matrix**"
      ]
    },
    {
      "cell_type": "code",
      "metadata": {
        "colab": {
          "base_uri": "https://localhost:8080/"
        },
        "id": "Hox_ysEYhnav",
        "outputId": "a4a59890-ed0d-4492-c7c6-9b0d205623c0"
      },
      "source": [
        "confusion_matrix(y_test, pred)"
      ],
      "execution_count": 56,
      "outputs": [
        {
          "output_type": "execute_result",
          "data": {
            "text/plain": [
              "array([[1405,  962],\n",
              "       [ 987, 6415]])"
            ]
          },
          "metadata": {},
          "execution_count": 56
        }
      ]
    },
    {
      "cell_type": "code",
      "metadata": {
        "colab": {
          "base_uri": "https://localhost:8080/",
          "height": 298
        },
        "id": "xPS2qdNZhpeq",
        "outputId": "dbc5ce5f-e5b6-4a10-914d-e88ffc312b28"
      },
      "source": [
        "plot_confusion_matrix(knn,x_test,y_test)"
      ],
      "execution_count": 57,
      "outputs": [
        {
          "output_type": "execute_result",
          "data": {
            "text/plain": [
              "<sklearn.metrics._plot.confusion_matrix.ConfusionMatrixDisplay at 0x7f288b304890>"
            ]
          },
          "metadata": {},
          "execution_count": 57
        },
        {
          "output_type": "display_data",
          "data": {
            "image/png": "[encoded data removed]",
            "text/plain": [
              "<Figure size 432x288 with 2 Axes>"
            ]
          },
          "metadata": {
            "needs_background": "light"
          }
        }
      ]
    },
    {
      "cell_type": "markdown",
      "metadata": {
        "id": "xSfsxkG9flld"
      },
      "source": [
        "It can be scene that our KNN model has given the accuracy of 80.04% for k=1. However we can always variate the value 'k' to find the optimum k for the best accuracy results. Hence finding desired value of 'k' is crucial for better performance of the model.  "
      ]
    },
    {
      "cell_type": "markdown",
      "metadata": {
        "id": "DAaImdeDiErd"
      },
      "source": [
        "# Finding the optimum value of k\n",
        "\n",
        "\n",
        "> Here what we do is take some k values, train the model using that k and find the error (1 - accuracy), then choose the value of K with least error\n",
        "\n"
      ]
    },
    {
      "cell_type": "code",
      "metadata": {
        "id": "Dv6MFkZSd97q"
      },
      "source": [
        "error= []\n",
        "\n",
        "for i in range(1,30):\n",
        "    knn = KNeighborsClassifier(n_neighbors=i)\n",
        "    knn.fit(x_train,y_train)\n",
        "    pred = knn.predict(x_test)\n",
        "    error.append(1-(accuracy_score(y_test,pred)))"
      ],
      "execution_count": 58,
      "outputs": []
    },
    {
      "cell_type": "markdown",
      "metadata": {
        "id": "sTqa7S-hpQcS"
      },
      "source": [
        "Plotting 'Error vs K' graph to estimate optimum k value"
      ]
    },
    {
      "cell_type": "code",
      "metadata": {
        "id": "UUy_68IvihzH"
      },
      "source": [
        "plt.plot(range(1,30),error,'r-',marker='o')\n",
        "plt.xlabel('Values of K')\n",
        "plt.ylabel('Error')\n",
        "plt.title('Error vs K')"
      ],
      "execution_count": null,
      "outputs": []
    },
    {
      "cell_type": "markdown",
      "metadata": {
        "id": "7m4RzJ7vpcFn"
      },
      "source": [
        "From the above graph the minimum error with smallest k can be chosen at k=18. Here the error is very low and it is also the samllest k value with one of the lowest errors. \n",
        "\n",
        "\n",
        "> Hence we declare K = 18 and predict output for the same.\n",
        "\n",
        "\n"
      ]
    },
    {
      "cell_type": "code",
      "metadata": {
        "colab": {
          "base_uri": "https://localhost:8080/"
        },
        "id": "kGxf67Dkqf_a",
        "outputId": "117d2a53-4a34-437a-e683-e20bfbfcbac1"
      },
      "source": [
        "knn = KNeighborsClassifier(n_neighbors=18)\n",
        "knn.fit(x_train,y_train)"
      ],
      "execution_count": 60,
      "outputs": [
        {
          "output_type": "execute_result",
          "data": {
            "text/plain": [
              "KNeighborsClassifier(algorithm='auto', leaf_size=30, metric='minkowski',\n",
              "                     metric_params=None, n_jobs=None, n_neighbors=18, p=2,\n",
              "                     weights='uniform')"
            ]
          },
          "metadata": {},
          "execution_count": 60
        }
      ]
    },
    {
      "cell_type": "code",
      "metadata": {
        "id": "hwZ3t9tOqsQg"
      },
      "source": [
        "pred = knn.predict(x_test)"
      ],
      "execution_count": 61,
      "outputs": []
    },
    {
      "cell_type": "code",
      "metadata": {
        "colab": {
          "base_uri": "https://localhost:8080/"
        },
        "id": "bxbqmf5krEPL",
        "outputId": "2bbacc3e-a7c0-4899-b20f-598fc833f1a5"
      },
      "source": [
        "accuracy_score(y_test,pred)"
      ],
      "execution_count": 62,
      "outputs": [
        {
          "output_type": "execute_result",
          "data": {
            "text/plain": [
              "0.8457365134609479"
            ]
          },
          "metadata": {},
          "execution_count": 62
        }
      ]
    },
    {
      "cell_type": "markdown",
      "metadata": {
        "id": "xVzTiYn-rJrP"
      },
      "source": [
        "Hence we can find the accuracy of our model with k=18 comes out to be **84.57%** which is better than that for k=1"
      ]
    },
    {
      "cell_type": "markdown",
      "metadata": {
        "id": "hRRe8bAfrvIi"
      },
      "source": [
        "**Confusion Matrix**"
      ]
    },
    {
      "cell_type": "code",
      "metadata": {
        "colab": {
          "base_uri": "https://localhost:8080/",
          "height": 298
        },
        "id": "bnP0-zGirsCG",
        "outputId": "838aa094-b5c4-4351-b391-1986d34325da"
      },
      "source": [
        "plot_confusion_matrix(knn,x_test,y_test)"
      ],
      "execution_count": 63,
      "outputs": [
        {
          "output_type": "execute_result",
          "data": {
            "text/plain": [
              "<sklearn.metrics._plot.confusion_matrix.ConfusionMatrixDisplay at 0x7f288fb4b7d0>"
            ]
          },
          "metadata": {},
          "execution_count": 63
        },
        {
          "output_type": "display_data",
          "data": {
            "image/png": "[encoded data removed]",
            "text/plain": [
              "<Figure size 432x288 with 2 Axes>"
            ]
          },
          "metadata": {
            "needs_background": "light"
          }
        }
      ]
    },
    {
      "cell_type": "markdown",
      "metadata": {
        "id": "zOFgv5AusHeM"
      },
      "source": [
        "Examining the final classification report"
      ]
    },
    {
      "cell_type": "code",
      "metadata": {
        "colab": {
          "base_uri": "https://localhost:8080/"
        },
        "id": "N8aprTuEsPQ8",
        "outputId": "1da2d9c2-d9db-454e-a500-18b8e1ec7f74"
      },
      "source": [
        "print(classification_report(y_test, pred))"
      ],
      "execution_count": 64,
      "outputs": [
        {
          "output_type": "stream",
          "name": "stdout",
          "text": [
            "              precision    recall  f1-score   support\n",
            "\n",
            "           0       0.70      0.64      0.67      2367\n",
            "           1       0.89      0.91      0.90      7402\n",
            "\n",
            "    accuracy                           0.85      9769\n",
            "   macro avg       0.79      0.78      0.78      9769\n",
            "weighted avg       0.84      0.85      0.84      9769\n",
            "\n"
          ]
        }
      ]
    }
  ]
}